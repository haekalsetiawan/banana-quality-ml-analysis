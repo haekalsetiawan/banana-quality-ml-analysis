# Import libraries
import pandas as pd
import matplotlib.pyplot as plt
import seaborn as sns

# Load the dataset
df = pd.read_csv('../data/banana_quality.csv')

# Menampilkan beberapa baris data untuk memahami strukturnya
print(df.head())

# Melihat informasi umum dataset
print(df.info())

# Melihat distribusi statistik deskriptif
print(df.describe())

# Melakukan visualisasi distribusi variabel numerik
df.hist(bins=50, figsize=(20, 15))
plt.show()

# Memeriksa korelasi antar variabel
corr_matrix = df.corr()
plt.figure(figsize=(12, 8))
sns.heatmap(corr_matrix, annot=True, cmap='coolwarm')
plt.title('Correlation Matrix')
plt.show()
